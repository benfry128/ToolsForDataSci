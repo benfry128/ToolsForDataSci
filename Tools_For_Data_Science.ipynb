{
 "cells": [
  {
   "cell_type": "markdown",
   "id": "20bbca9f",
   "metadata": {},
   "source": [
    "# Data Science Tools and Ecosystem"
   ]
  },
  {
   "cell_type": "markdown",
   "id": "95be835e-f45c-4790-b6cd-45b01c459450",
   "metadata": {},
   "source": [
    "This notebook summarizes the Tools and Ecosystem of the Data Science Field."
   ]
  },
  {
   "cell_type": "markdown",
   "id": "b9748cc9-8bea-4a54-98c5-6781301bbb33",
   "metadata": {},
   "source": [
    "Some of the popular languages that Data Scientists use are:\n",
    "1. Python\n",
    "2. R\n",
    "3. SQL\n",
    "4. Scala\n",
    "5. Julia"
   ]
  },
  {
   "cell_type": "markdown",
   "id": "617dde7b-8f30-4dbb-90bf-9833d62638ad",
   "metadata": {},
   "source": [
    "Some of the commonly used libraries used by Data Scientists include:\n",
    "1. SciPy\n",
    "2. Pandas\n",
    "3. TensorFlow\n",
    "4. GGPlot\n",
    "5. Plotly"
   ]
  },
  {
   "cell_type": "markdown",
   "id": "784cb380-74b8-4a01-8c84-13c6c10fd8dc",
   "metadata": {},
   "source": [
    "|Data Science Tools|\n",
    "|------------------|\n",
    "|RStudio|\n",
    "|Jupyter Notebooks|\n",
    "|Spyder|"
   ]
  },
  {
   "cell_type": "markdown",
   "id": "4377891d-c007-4800-84c8-53753860e213",
   "metadata": {},
   "source": [
    "### Below are a few examples of evaluating arithmetic expressions in Python:"
   ]
  },
  {
   "cell_type": "code",
   "execution_count": 2,
   "id": "addfcea3-7dc9-471c-bed6-bdf7e8da5506",
   "metadata": {},
   "outputs": [
    {
     "data": {
      "text/plain": [
       "17"
      ]
     },
     "execution_count": 2,
     "metadata": {},
     "output_type": "execute_result"
    }
   ],
   "source": [
    "# This simple arithmetic expression multiplies, then adds integers\n",
    "(3*4)+5"
   ]
  },
  {
   "cell_type": "code",
   "execution_count": 3,
   "id": "76eb4edc-f235-434f-9991-a13f21a3c40d",
   "metadata": {},
   "outputs": [
    {
     "data": {
      "text/plain": [
       "3.3333333333333335"
      ]
     },
     "execution_count": 3,
     "metadata": {},
     "output_type": "execute_result"
    }
   ],
   "source": [
    "# This will convert 200 minutes to hours by dividing by 60.\n",
    "200 / 60"
   ]
  },
  {
   "cell_type": "markdown",
   "id": "1b8232ff-00be-4d33-a6b8-90b1f49deaed",
   "metadata": {},
   "source": [
    "**Objectives:**\n",
    "+ Create a Jupyter Notebook with markdown and code cells\n",
    "+ List examples of languages, libraries and tools used in Data Science\n",
    "+ Share your Jupyter Notebook publicly on GitHub\n",
    "+ Evaluate notebooks submitted by your peers using the provided rubric\n",
    "+ Demonstrate proficiency in Data Science toolkit knowledge\r\n",
    "\n",
    "\r\n"
   ]
  },
  {
   "cell_type": "markdown",
   "id": "55ccfa2d-5878-4550-a266-eb979fc7b53a",
   "metadata": {},
   "source": [
    "## Author\n",
    "Benjamin Fry"
   ]
  },
  {
   "cell_type": "code",
   "execution_count": null,
   "id": "7ff04ff3-cf0f-4edb-b578-a2a61a711260",
   "metadata": {},
   "outputs": [],
   "source": []
  }
 ],
 "metadata": {
  "kernelspec": {
   "display_name": "Python 3 (ipykernel)",
   "language": "python",
   "name": "python3"
  },
  "language_info": {
   "codemirror_mode": {
    "name": "ipython",
    "version": 3
   },
   "file_extension": ".py",
   "mimetype": "text/x-python",
   "name": "python",
   "nbconvert_exporter": "python",
   "pygments_lexer": "ipython3",
   "version": "3.11.7"
  }
 },
 "nbformat": 4,
 "nbformat_minor": 5
}
